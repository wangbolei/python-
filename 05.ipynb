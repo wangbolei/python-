{
 "cells": [
  {
   "cell_type": "code",
   "execution_count": 1,
   "metadata": {},
   "outputs": [
    {
     "name": "stdout",
     "output_type": "stream",
     "text": [
      "第1年拿到106700.0块钱\n",
      "第2年拿到113848.9块钱\n",
      "第3年拿到121476.77629999998块钱\n",
      "第4年拿到129615.72031209998块钱\n",
      "第5年拿到138299.97357301068块钱\n",
      "第6年拿到147566.07180240238块钱\n",
      "第7年拿到157452.99861316333块钱\n",
      "第8年拿到168002.34952024528块钱\n",
      "第9年拿到179258.5069381017块钱\n",
      "第10年拿到191268.8269029545块钱\n",
      "第11年拿到204083.83830545243块钱\n"
     ]
    }
   ],
   "source": [
    "#如果说年利率是6.7%,本利是每年翻滚,则多少年后本钱会翻倍\n",
    "benqian=100000\n",
    "year = 0\n",
    "while benqian < 200000:\n",
    "    benqian = benqian * (1+0.067)\n",
    "    year += 1  #year=year+1\n",
    "    print (\"第{0}年拿到{1}块钱\".format(year , benqian))"
   ]
  },
  {
   "cell_type": "code",
   "execution_count": 2,
   "metadata": {},
   "outputs": [
    {
     "name": "stdout",
     "output_type": "stream",
     "text": [
      "第1年拿到106700.0块钱\n",
      "第2年拿到113848.9块钱\n",
      "第3年拿到121476.77629999998块钱\n",
      "第4年拿到129615.72031209998块钱\n",
      "第5年拿到138299.97357301068块钱\n",
      "第6年拿到147566.07180240238块钱\n",
      "第7年拿到157452.99861316333块钱\n",
      "第8年拿到168002.34952024528块钱\n",
      "第9年拿到179258.5069381017块钱\n",
      "第10年拿到191268.8269029545块钱\n",
      "第11年拿到204083.83830545243块钱\n",
      "大爷的,终于翻倍了,十多年了\n"
     ]
    }
   ],
   "source": [
    "#如果说年利率是6.7%,本利是每年翻滚,则多少年后本钱会翻倍\n",
    "#如果拿到的本钱翻倍,则用print庆贺一下\n",
    "benqian=100000\n",
    "year = 0\n",
    "while benqian < 200000:\n",
    "    benqian = benqian * (1+0.067)\n",
    "    year += 1  #year=year+1\n",
    "    print (\"第{0}年拿到{1}块钱\".format(year , benqian))\n",
    "else:\n",
    "    print(\"大爷的,终于翻倍了,十多年了\")"
   ]
  },
  {
   "cell_type": "code",
   "execution_count": 3,
   "metadata": {},
   "outputs": [],
   "source": [
    "#定义一个函数\n",
    "#只定义的话不会执行\n",
    "# 1.def是关键字,后面跟一个空格,\n",
    "# 2.函数名自己定义,起名需要遵循命名规则,约定俗成,大驼峰的命名只给类命名\n",
    "# 3.后面的括号和冒号不能省\n",
    "def func():\n",
    "    print(\"我是一个函数\")\n",
    "    print(\"我要完成一定的功能\")\n",
    "    \n",
    "    print(\"我结束了\")"
   ]
  },
  {
   "cell_type": "code",
   "execution_count": 4,
   "metadata": {},
   "outputs": [
    {
     "name": "stdout",
     "output_type": "stream",
     "text": [
      "我是一个函数\n",
      "我要完成一定的功能\n",
      "我结束了\n"
     ]
    }
   ],
   "source": [
    "func()"
   ]
  },
  {
   "cell_type": "code",
   "execution_count": 5,
   "metadata": {},
   "outputs": [
    {
     "name": "stdout",
     "output_type": "stream",
     "text": [
      "明月,你怎么了\n",
      "Sir,你不理我我就走了\n"
     ]
    }
   ],
   "source": [
    "def hello(person):\n",
    "    print(\"{0},你怎么了\".format(person))\n",
    "    print(\"Sir,你不理我我就走了\")\n",
    "    \n",
    "p = \"明月\"\n",
    "hello(p)"
   ]
  },
  {
   "cell_type": "code",
   "execution_count": 6,
   "metadata": {},
   "outputs": [
    {
     "name": "stdout",
     "output_type": "stream",
     "text": [
      "明月,你怎么了\n",
      "Sir,你不理我我就走了\n",
      "我已经跟明月打过招呼了,明月不理我\n"
     ]
    }
   ],
   "source": [
    "#return的用法\n",
    "def hello(person):\n",
    "    print(\"{0},你怎么了\".format(person))\n",
    "    print(\"Sir,你不理我我就走了\")\n",
    "    \n",
    "    return \"我已经跟{0}打过招呼了,{1}不理我\".format(person,person)\n",
    "    \n",
    "p = \"明月\"\n",
    "rst=hello(p)\n",
    "print(rst)"
   ]
  },
  {
   "cell_type": "code",
   "execution_count": 7,
   "metadata": {},
   "outputs": [
    {
     "name": "stdout",
     "output_type": "stream",
     "text": [
      "Help on built-in function print in module builtins:\n",
      "\n",
      "print(...)\n",
      "    print(value, ..., sep=' ', end='\\n', file=sys.stdout, flush=False)\n",
      "    \n",
      "    Prints the values to a stream, or to sys.stdout by default.\n",
      "    Optional keyword arguments:\n",
      "    file:  a file-like object (stream); defaults to the current sys.stdout.\n",
      "    sep:   string inserted between values, default a space.\n",
      "    end:   string appended after the last value, default a newline.\n",
      "    flush: whether to forcibly flush the stream.\n",
      "\n"
     ]
    }
   ],
   "source": [
    "help(print)"
   ]
  },
  {
   "cell_type": "code",
   "execution_count": 8,
   "metadata": {},
   "outputs": [
    {
     "name": "stdout",
     "output_type": "stream",
     "text": [
      "1 - - - - - - - - - - -\n",
      "2 4 - - - - - - - - - - -\n",
      "3 6 9 - - - - - - - - - - -\n",
      "4 8 12 16 - - - - - - - - - - -\n",
      "5 10 15 20 25 - - - - - - - - - - -\n",
      "6 12 18 24 30 36 - - - - - - - - - - -\n",
      "7 14 21 28 35 42 49 - - - - - - - - - - -\n",
      "8 16 24 32 40 48 56 64 - - - - - - - - - - -\n",
      "9 18 27 36 45 54 63 72 81 - - - - - - - - - - -\n"
     ]
    }
   ],
   "source": [
    "#九九乘法表\n",
    "for row in range(1,10):\n",
    "    for col in range(1,row+1):\n",
    "        # print函数默认打印完自动换行\n",
    "        print( row * col,end=\" \")\n",
    "    print(\"- - - - - - - - - - -\")"
   ]
  },
  {
   "cell_type": "code",
   "execution_count": 9,
   "metadata": {},
   "outputs": [
    {
     "name": "stdout",
     "output_type": "stream",
     "text": [
      "1 \n",
      "2 4 \n",
      "3 6 9 \n",
      "4 8 12 16 \n",
      "5 10 15 20 25 \n",
      "6 12 18 24 30 36 \n",
      "7 14 21 28 35 42 49 \n",
      "8 16 24 32 40 48 56 64 \n",
      "9 18 27 36 45 54 63 72 81 \n"
     ]
    }
   ],
   "source": [
    "def printline(row):\n",
    "    for col in range(1,row+1):\n",
    "        # print函数默认打印完自动换行\n",
    "        print( row * col,end=\" \")\n",
    "    print(\"\")\n",
    "\n",
    "for row in range(1,10):\n",
    "    printline(row)"
   ]
  },
  {
   "cell_type": "code",
   "execution_count": 1,
   "metadata": {},
   "outputs": [],
   "source": [
    "def reg(name,age,gender=\"male\"):\n",
    "    if gender == \"male\":\n",
    "        print(\"{0} is {1},and he is a good student\".format(name,age))\n",
    "    else:\n",
    "        print(\"{0} is {1},and she is a good student\".format(name,age))\n",
    "    "
   ]
  },
  {
   "cell_type": "code",
   "execution_count": 11,
   "metadata": {},
   "outputs": [
    {
     "name": "stdout",
     "output_type": "stream",
     "text": [
      "mingyue is 21,and he is a good student\n",
      "jingjing is 21,and she is a good student\n"
     ]
    }
   ],
   "source": [
    "reg(\"mingyue\",21)\n",
    "reg(\"jingjing\",21,\"female\")"
   ]
  },
  {
   "cell_type": "code",
   "execution_count": null,
   "metadata": {},
   "outputs": [],
   "source": []
  }
 ],
 "metadata": {
  "kernelspec": {
   "display_name": "Python 3",
   "language": "python",
   "name": "python3"
  },
  "language_info": {
   "codemirror_mode": {
    "name": "ipython",
    "version": 3
   },
   "file_extension": ".py",
   "mimetype": "text/x-python",
   "name": "python",
   "nbconvert_exporter": "python",
   "pygments_lexer": "ipython3",
   "version": "3.6.5"
  }
 },
 "nbformat": 4,
 "nbformat_minor": 2
}
