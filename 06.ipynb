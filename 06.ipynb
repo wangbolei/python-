{
 "cells": [
  {
   "cell_type": "code",
   "execution_count": 3,
   "metadata": {},
   "outputs": [
    {
     "name": "stdout",
     "output_type": "stream",
     "text": [
      "I am a student\n",
      "我叫jingjing,我今年18岁了,我住我家\n"
     ]
    }
   ],
   "source": [
    "def stu(name,age,addr):\n",
    "    print(\"I am a student\")\n",
    "    print(\"我叫{0},我今年{1}岁了,我住{2}\".format(name,age,addr))\n",
    "    \n",
    "n = \"jingjing\"\n",
    "a = 18\n",
    "addr = \"我家\"\n",
    "#普通参数只按照位置传递,容易出错\n",
    "stu(n, a, addr)"
   ]
  },
  {
   "cell_type": "code",
   "execution_count": 7,
   "metadata": {},
   "outputs": [
    {
     "name": "stdout",
     "output_type": "stream",
     "text": [
      "I am a student\n",
      "我叫jingjing,我今年18岁了,我住我家\n"
     ]
    }
   ],
   "source": [
    "def stu(name=\"No name\",age=0,addr=\"no addr\"):\n",
    "    print(\"I am a student\")\n",
    "    print(\"我叫{0},我今年{1}岁了,我住{2}\".format(name,age,addr))\n",
    "    \n",
    "n = \"jingjing\"\n",
    "a = 18\n",
    "addr = \"我家\"\n",
    "#普通参数只按照位置传递,容易出错\n",
    "stu(name=n, age=a, addr=addr)"
   ]
  },
  {
   "cell_type": "code",
   "execution_count": 11,
   "metadata": {},
   "outputs": [
    {
     "name": "stdout",
     "output_type": "stream",
     "text": [
      "I am a student\n",
      "我叫静静,我今年18岁了,我住在我家\n"
     ]
    }
   ],
   "source": [
    "#args可以把它看作一个list\n",
    "def stu(*args):\n",
    "    print(\"I am a student\")\n",
    "    print(\"我叫{0},我今年{1}岁了,我住在{2}\".format(name,age,addr))\n",
    "    \n",
    "name = \"静静\"\n",
    "age = 18\n",
    "addr = \"我家\"\n",
    "\n",
    "stu(name,age,addr)"
   ]
  },
  {
   "cell_type": "code",
   "execution_count": 14,
   "metadata": {},
   "outputs": [
    {
     "name": "stdout",
     "output_type": "stream",
     "text": [
      "Hello, 大家好,我自我介绍一下,简单说两句:\n",
      "<class 'tuple'>\n",
      "liuying\n",
      "18\n",
      "北京大通州区\n",
      "wangxiaojing\n",
      "single\n"
     ]
    }
   ],
   "source": [
    "def stu(*args):\n",
    "    print(\"Hello, 大家好,我自我介绍一下,简单说两句:\")\n",
    "    print(type(args))    #type函数是用来检测变量的类型\n",
    "    for item in args:\n",
    "        print(item)\n",
    "        \n",
    "stu(\"liuying\", 18, \"北京大通州区\", \"wangxiaojing\", \"single\")"
   ]
  },
  {
   "cell_type": "code",
   "execution_count": 18,
   "metadata": {},
   "outputs": [
    {
     "name": "stdout",
     "output_type": "stream",
     "text": [
      "Hello, 大家好,我自我介绍一下,简单说两句:\n",
      "<class 'dict'>\n",
      "name - - - - - - liuying\n",
      "age - - - - - - 18\n",
      "addr - - - - - - 北京大通州区\n",
      "lover - - - - - - wangxiaojing\n",
      "work - - - - - - single\n"
     ]
    }
   ],
   "source": [
    "def stu( **kwargs):\n",
    "    print(\"Hello, 大家好,我自我介绍一下,简单说两句:\")\n",
    "    print(type(kwargs))    #type函数是用来检测变量的类型\n",
    "    #对字典的写法,python 2 和python 3 有区别\n",
    "    for k,v in kwargs.items():\n",
    "        print(k, \"- - - - - -\", v)\n",
    "        \n",
    "stu(name=\"liuying\", age=18, addr=\"北京大通州区\", lover=\"wangxiaojing\", work=\"single\")"
   ]
  },
  {
   "cell_type": "code",
   "execution_count": 32,
   "metadata": {
    "scrolled": true
   },
   "outputs": [
    {
     "name": "stdout",
     "output_type": "stream",
     "text": [
      "Hello 大家好\n",
      "我叫王博磊,我今年22岁了.\n",
      "sorry,我没有爱好\n",
      "********************\n",
      "####################\n",
      "Hello 大家好\n",
      "我叫王博磊,我今年22岁了.\n",
      "我的爱好是打乒乓球\n",
      "********************\n",
      "####################\n",
      "Hello 大家好\n",
      "我叫王博磊,我今年22岁了.\n",
      "我的爱好是打乒乓球\n",
      "********************\n",
      "王晓菁\n",
      "刘石头\n",
      "####################\n",
      "hobby2 - - -  打羽毛球\n"
     ]
    }
   ],
   "source": [
    "def stu(name, age,*args, hobby=\"没有\", **kwargs):        #顺序是:普通参数、收集参数、关键字参数、关键字收集参数\n",
    "    print(\"Hello 大家好\")\n",
    "    print(\"我叫{0},我今年{1}岁了.\".format(name,age))\n",
    "    if hobby==\"没有\":\n",
    "        print(\"sorry,我没有爱好\")\n",
    "    else:\n",
    "        print(\"我的爱好是{0}\".format(hobby))\n",
    "    print(\"*\" * 20)\n",
    "    \n",
    "    for i in args:\n",
    "        print(i)\n",
    "        \n",
    "    print(\"#\" * 20)\n",
    "    \n",
    "    for k,v in kwargs.items():\n",
    "        print(k, \"- - - \", v)\n",
    "        \n",
    "name = \"王博磊\"\n",
    "age = 22\n",
    "stu(name,age)\n",
    "\n",
    "stu(name, age, hobby=\"打乒乓球\")\n",
    "\n",
    "stu(name, age, \"王晓菁\", \"刘石头\", hobby=\"打乒乓球\", hobby2=\"打羽毛球\")"
   ]
  },
  {
   "cell_type": "code",
   "execution_count": null,
   "metadata": {},
   "outputs": [],
   "source": []
  }
 ],
 "metadata": {
  "kernelspec": {
   "display_name": "Python 3",
   "language": "python",
   "name": "python3"
  },
  "language_info": {
   "codemirror_mode": {
    "name": "ipython",
    "version": 3
   },
   "file_extension": ".py",
   "mimetype": "text/x-python",
   "name": "python",
   "nbconvert_exporter": "python",
   "pygments_lexer": "ipython3",
   "version": "3.6.5"
  }
 },
 "nbformat": 4,
 "nbformat_minor": 2
}
