{
 "cells": [
  {
   "cell_type": "code",
   "execution_count": 3,
   "metadata": {},
   "outputs": [
    {
     "name": "stdout",
     "output_type": "stream",
     "text": [
      "[1, 2, 3, 4, 5, 6]\n",
      "[1, 2, 300, 4, 5, 6]\n",
      "[1, 2, 300, 4, 5, 6]\n",
      "9\n",
      "109\n",
      "9\n"
     ]
    }
   ],
   "source": [
    "# 传值跟传址的区别\n",
    "# 对于简单的数值,采用传值操作,即在函数内对参数的操作,而不影响外面的变量\n",
    "# 对于复杂的变量,采用传址操作,此时函数内的参数和外部变量是同一份内容,任何地方对此内容的更改都会影响外部变量或参数的使用\n",
    "def a(n):                #传址\n",
    "    n[2] = 300\n",
    "    print(n)\n",
    "    return None\n",
    "def b(n):                #传值\n",
    "    n += 100\n",
    "    print(n)\n",
    "    return None\n",
    "\n",
    "an = [1,2,3,4,5,6]\n",
    "bn = 9\n",
    "\n",
    "print(an)\n",
    "a(an)\n",
    "print(an)\n",
    "\n",
    "print(bn)\n",
    "b(bn)\n",
    "print(bn)"
   ]
  },
  {
   "cell_type": "code",
   "execution_count": 9,
   "metadata": {},
   "outputs": [
    {
     "name": "stdout",
     "output_type": "stream",
     "text": [
      "[1, 2, 3, 4]\n",
      "[1, 2, 3, 4, 100]\n",
      "[1, 2, 3, 4, 100]\n",
      "[1, 2, 5, 3, 4, 100]\n"
     ]
    }
   ],
   "source": [
    "#append:插入一个内容\n",
    "a = [i for i in range(1,5)]\n",
    "print(a)\n",
    "a.append(100)\n",
    "print(a)\n",
    "\n",
    "\n",
    "\n",
    "# insert:制定位置插入\n",
    "#insert(indx,data)\n",
    "print(a)\n",
    "a.insert(2,5)\n",
    "print(a)"
   ]
  },
  {
   "cell_type": "code",
   "execution_count": 10,
   "metadata": {},
   "outputs": [
    {
     "name": "stdout",
     "output_type": "stream",
     "text": [
      "[1, 2, 5, 3, 4, 100]\n",
      "100\n",
      "[1, 2, 5, 3, 4]\n"
     ]
    }
   ],
   "source": [
    "# 删除\n",
    "# del 删除\n",
    "# pop 从对位拿出一个元素,即把最后一个元素取出来\n",
    "print(a)\n",
    "last_ele = a.pop()\n",
    "print(last_ele)\n",
    "print(a)"
   ]
  },
  {
   "cell_type": "code",
   "execution_count": 14,
   "metadata": {},
   "outputs": [
    {
     "name": "stdout",
     "output_type": "stream",
     "text": [
      "[1, 2, 3, 4]\n",
      "2013029080776\n",
      "[1, 3, 4]\n",
      "2013029080776\n"
     ]
    }
   ],
   "source": [
    "#remove :在列表中删除指定元素\n",
    "#如果被删除的值不再list中,则报错\n",
    "#即删除list指定值的操作应该使用try...excepty语句,或者先行进行判断\n",
    "# if i in list:\n",
    "#    list.remove(x)\n",
    "a = [i for i in range(1,5)]\n",
    "print(a)\n",
    "print(id(a))\n",
    "a.remove(2)\n",
    "print(a)\n",
    "print(id(a))"
   ]
  },
  {
   "cell_type": "code",
   "execution_count": 15,
   "metadata": {},
   "outputs": [
    {
     "name": "stdout",
     "output_type": "stream",
     "text": [
      "[1, 2, 3, 4, 5]\n",
      "[5, 4, 3, 2, 1]\n"
     ]
    }
   ],
   "source": [
    "#reverse: 翻转\n",
    "a = [1,2,3,4,5]\n",
    "print(a)\n",
    "a.reverse()\n",
    "print(a)"
   ]
  },
  {
   "cell_type": "code",
   "execution_count": 18,
   "metadata": {},
   "outputs": [
    {
     "name": "stdout",
     "output_type": "stream",
     "text": [
      "[1, 2, 3, 4, 5, 6, 7, 8, 9, 10]\n",
      "[6, 7, 8, 9, 10]\n"
     ]
    }
   ],
   "source": [
    "#extend: 扩展列表,两个列表,把一个直接拼接到后一个上\n",
    "a = [1,2,3,4,5]\n",
    "b = [6,7,8,9,10]\n",
    "a.extend(b)\n",
    "print(a)\n"
   ]
  },
  {
   "cell_type": "code",
   "execution_count": 20,
   "metadata": {},
   "outputs": [
    {
     "name": "stdout",
     "output_type": "stream",
     "text": [
      "[1, 2, 3, 4, 5, 6, 7, 8, 9, 10]\n",
      "3\n"
     ]
    }
   ],
   "source": [
    "#count: 查找列表中指定的值或者元素的个数\n",
    "print(a)\n",
    "a.append(8)\n",
    "a.insert(4,8)\n",
    "a_len = a.count(8)\n",
    "print(a_len)"
   ]
  },
  {
   "cell_type": "code",
   "execution_count": null,
   "metadata": {},
   "outputs": [],
   "source": [
    "#copy: 拷贝,浅拷贝\n",
    "#深拷贝与浅拷贝的区别\n",
    "#copy只拷贝一层内容<如果是嵌套列表>"
   ]
  },
  {
   "cell_type": "code",
   "execution_count": 23,
   "metadata": {},
   "outputs": [
    {
     "name": "stdout",
     "output_type": "stream",
     "text": [
      "<class 'tuple'>\n",
      "<class 'tuple'>\n",
      "(1,)\n",
      "<class 'tuple'>\n",
      "(1,)\n"
     ]
    }
   ],
   "source": [
    "#元组\n",
    "t = ()\n",
    "print(type(t))\n",
    "\n",
    "t = (1,)\n",
    "print(type(t))\n",
    "print(t)\n",
    "\n",
    "t = 1,\n",
    "print(type(t))\n",
    "print(t)"
   ]
  },
  {
   "cell_type": "code",
   "execution_count": null,
   "metadata": {},
   "outputs": [],
   "source": []
  },
  {
   "cell_type": "code",
   "execution_count": null,
   "metadata": {},
   "outputs": [],
   "source": []
  },
  {
   "cell_type": "code",
   "execution_count": null,
   "metadata": {},
   "outputs": [],
   "source": []
  },
  {
   "cell_type": "code",
   "execution_count": null,
   "metadata": {},
   "outputs": [],
   "source": []
  },
  {
   "cell_type": "code",
   "execution_count": null,
   "metadata": {},
   "outputs": [],
   "source": []
  }
 ],
 "metadata": {
  "kernelspec": {
   "display_name": "Python 3",
   "language": "python",
   "name": "python3"
  },
  "language_info": {
   "codemirror_mode": {
    "name": "ipython",
    "version": 3
   },
   "file_extension": ".py",
   "mimetype": "text/x-python",
   "name": "python",
   "nbconvert_exporter": "python",
   "pygments_lexer": "ipython3",
   "version": "3.6.5"
  }
 },
 "nbformat": 4,
 "nbformat_minor": 2
}
